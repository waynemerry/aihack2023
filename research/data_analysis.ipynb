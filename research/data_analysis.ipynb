{
 "cells": [
  {
   "cell_type": "code",
   "execution_count": 5,
   "metadata": {},
   "outputs": [
    {
     "name": "stdout",
     "output_type": "stream",
     "text": [
      "test\n",
      "test\n",
      "test\n",
      "test\n",
      "test\n",
      "test\n",
      "test\n",
      "test\n"
     ]
    }
   ],
   "source": [
    "import pandas as pd\n",
    "\n",
    "excel_data = pd.read_excel('data\\Queries.xlsx', index_col=0)  \n",
    "\n",
    "gk = excel_data.groupby('user_id')\n",
    "groups = dict(list(gk))\n",
    "\n",
    "class Analysis:\n",
    "    def __init__(self, intial_pain_scale, initial_mood_scale):\n",
    "\n",
    "        self.intial_pain_scale  = intial_pain_scale\n",
    "        self.initial_mood_scale = initial_mood_scale\n",
    "\n",
    "        self.pain_scale_worsen_from_last  = []\n",
    "        self.mood_scale_worsen_from_last = []\n",
    "    \n",
    "        self.pain_scale_worsen_from_min  = []\n",
    "        self.mood_scale_worsen_from_max = []\n",
    "        \n",
    "        self.min_pain_scale = self.intial_pain_scale\n",
    "        self.max_mood_scale = self.initial_mood_scale\n",
    "        \n",
    "        self.pain_scale_worsen_diff  = []\n",
    "        self.mood_scale_worsen_diff = []\n",
    "    \n",
    "    # def update(self, pain_scale, mood_)\n",
    "        \n",
    "\n",
    "def analyse_case(dataframe):\n",
    "\n",
    "    time_threshold = 2\n",
    "\n",
    "    anlys = Analysis(df[\"pain_scale\"][0], df[\"mood_scale\"][0])\n",
    "\n",
    "    previous_pain_scale = df[\"pain_scale\"][0]\n",
    "    previous_mood_scale = df[\"mood_scale\"][0]\n",
    "    \n",
    "    for i in range(1, len(df)):\n",
    "\n",
    "        current_pain_scale = df[\"pain_scale\"][i]\n",
    "        current_mood_scale = df[\"mood_scale\"][i]\n",
    "        \n",
    "        pain_scale_worsen_from_last_flag = current_pain_scale >  previous_pain_scale\n",
    "        mood_scale_worsen_from_last_flag = current_mood_scale <  previous_mood_scale\n",
    "\n",
    "        anlys.pain_scale_worsen_from_last.append(pain_scale_worsen_from_last_flag)\n",
    "        anlys.mood_scale_worsen_from_last.append(mood_scale_worsen_from_last_flag)\n",
    "\n",
    "        anlys.pain_scale_worsen_diff.append(previous_pain_scale - current_pain_scale)\n",
    "        anlys.mood_scale_worsen_diff.append(current_mood_scale  - previous_mood_scale)\n",
    "        \n",
    "        pain_scale_worsen_from_min_flag = current_pain_scale >  anlys.min_pain_scale\n",
    "        mood_scale_worsen_from_max_flag = current_mood_scale <  anlys.max_mood_scale\n",
    "        \n",
    "        anlys.pain_scale_worsen_from_min.append(pain_scale_worsen_from_min_flag)\n",
    "        anlys.mood_scale_worsen_from_max.append(mood_scale_worsen_from_max_flag)\n",
    "\n",
    "        anlys.min_pain_scale = min(anlys.min_pain_scale, current_pain_scale)\n",
    "        anlys.max_mood_scale = max(anlys.max_mood_scale, current_mood_scale)\n",
    "        \n",
    "        previous_pain_scale = current_pain_scale\n",
    "        previous_mood_scale = current_mood_scale\n",
    "\n",
    "    \n",
    "    print('test')\n",
    "\n",
    "for key, df in groups.items():\n",
    "    if len(df) >= 3:\n",
    "        analyse_case(df)    \n",
    "        "
   ]
  }
 ],
 "metadata": {
  "kernelspec": {
   "display_name": "tvcalib",
   "language": "python",
   "name": "python3"
  },
  "language_info": {
   "codemirror_mode": {
    "name": "ipython",
    "version": 3
   },
   "file_extension": ".py",
   "mimetype": "text/x-python",
   "name": "python",
   "nbconvert_exporter": "python",
   "pygments_lexer": "ipython3",
   "version": "3.9.16"
  }
 },
 "nbformat": 4,
 "nbformat_minor": 2
}
