{
 "cells": [
  {
   "cell_type": "code",
   "execution_count": 5,
   "metadata": {},
   "outputs": [
    {
     "name": "stdout",
     "output_type": "stream",
     "text": [
      "test\n",
      "test\n",
      "test\n",
      "test\n",
      "test\n",
      "test\n",
      "test\n",
      "test\n"
     ]
    }
   ],
   "source": [
    "import pandas as pd\n",
    "\n",
    "excel_data = pd.read_excel('data\\Queries.xlsx', index_col=0)  \n",
    "\n",
    "gk = excel_data.groupby('user_id')\n",
    "groups = dict(list(gk))\n",
    "\n",
    "class Analysis:\n",
    "    def __init__(self):\n",
    "        self.pain_scale_worsen_from_last  = []\n",
    "        self.mood_scale_worsen_from_last = []\n",
    "    \n",
    "        self.pain_scale_worsen_from_min  = []\n",
    "        self.mood_scale_worsen_from_max = []\n",
    "        \n",
    "        self.min_pain_scale = 0\n",
    "        self.max_mood_scale = 0\n",
    "\n",
    "\n",
    "def analyse_case(dataframe):\n",
    "\n",
    "    time_threshold = 2\n",
    "\n",
    "    min_pain_scale = df[\"pain_scale\"][0]\n",
    "    max_mood_scale = df[\"mood_scale\"][0]\n",
    "\n",
    "    previous_pain_scale = df[\"pain_scale\"][0]\n",
    "    previous_mood_scale = df[\"mood_scale\"][0]\n",
    "\n",
    "    pain_scale_worsen_from_last  = []\n",
    "    mood_scale_worsen_from_last = []\n",
    "    \n",
    "    pain_scale_worsen_from_min  = []\n",
    "    mood_scale_worsen_from_max = []\n",
    "\n",
    "    pain_scale_variance = df[\"pain_scale\"].var()\n",
    "    mood_scale_variance = df[\"mood_scale\"].var()\n",
    "    \n",
    "    for i in range(1, len(df)):\n",
    "\n",
    "        current_pain_scale = df[\"pain_scale\"][i]\n",
    "        current_mood_scale = df[\"mood_scale\"][i]\n",
    "\n",
    "        pain_scale_worsen_from_last.append(current_pain_scale >  previous_pain_scale)\n",
    "        mood_scale_worsen_from_last.append(current_mood_scale <  previous_mood_scale)\n",
    "\n",
    "        pain_scale_worsen_from_min.append(current_pain_scale >  min_pain_scale)\n",
    "        mood_scale_worsen_from_max.append(current_mood_scale <  max_mood_scale)\n",
    "\n",
    "        min_pain_scale = min(min_pain_scale, current_pain_scale)\n",
    "        max_mood_scale = max(max_mood_scale, current_mood_scale)\n",
    "        \n",
    "        previous_pain_scale = current_pain_scale\n",
    "        previous_mood_scale = current_mood_scale\n",
    "\n",
    "    \n",
    "    print('test')\n",
    "\n",
    "for key, df in groups.items():\n",
    "    if len(df) >= 3:\n",
    "        analyse_case(df)    \n",
    "        "
   ]
  }
 ],
 "metadata": {
  "kernelspec": {
   "display_name": "tvcalib",
   "language": "python",
   "name": "python3"
  },
  "language_info": {
   "codemirror_mode": {
    "name": "ipython",
    "version": 3
   },
   "file_extension": ".py",
   "mimetype": "text/x-python",
   "name": "python",
   "nbconvert_exporter": "python",
   "pygments_lexer": "ipython3",
   "version": "3.9.16"
  }
 },
 "nbformat": 4,
 "nbformat_minor": 2
}
